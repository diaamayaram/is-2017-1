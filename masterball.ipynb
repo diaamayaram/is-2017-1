{
 "cells": [
  {
   "cell_type": "markdown",
   "metadata": {},
   "source": [
    "# Intelligent Systems Assignment 1\n",
    "\n",
    "## Masterball solver\n",
    "\n",
    "**Name: Diego Amaya ID: diaamayaram**\n",
    "\n"
   ]
  },
  {
   "cell_type": "markdown",
   "metadata": {},
   "source": [
    "### 1. Create a class to model the Masterball problem"
   ]
  },
  {
   "cell_type": "markdown",
   "metadata": {},
   "source": [
    "#### Variables modeling the actions"
   ]
  },
  {
   "cell_type": "code",
   "execution_count": 3,
   "metadata": {
    "collapsed": true
   },
   "outputs": [],
   "source": [
    "'''\n",
    "This variables MUST not be changed.\n",
    "They represent the movements of the masterball.\n",
    "'''\n",
    "R_0 = \"Right 0\"\n",
    "R_1 = \"Right 1\"\n",
    "R_2 = \"Right 2\"\n",
    "R_3 = \"Right 3\"\n",
    "Rotations = [R_0, R_1, R_2, R_3]\n",
    "\n",
    "V_0 = \"Vertical 0\"\n",
    "V_1 = \"Vertical 1\"\n",
    "V_2 = \"Vertical 2\"\n",
    "V_3 = \"Vertical 3\"\n",
    "V_4 = \"Vertical 4\"\n",
    "V_5 = \"Vertical 5\"\n",
    "V_6 = \"Vertical 6\"\n",
    "V_7 = \"Vertical 7\"\n",
    "Turns = [V_0, V_1, V_2, V_3, V_4, V_5, V_6, V_7]"
   ]
  },
  {
   "cell_type": "markdown",
   "metadata": {},
   "source": [
    "#### The Masterball problem class"
   ]
  },
  {
   "cell_type": "code",
   "execution_count": 3,
   "metadata": {
    "collapsed": false
   },
   "outputs": [],
   "source": [
    "import search\n",
    "import util\n",
    "import sys\n",
    "import time \n",
    "from __builtin__ import str\n",
    "from _socket import timeout\n",
    "import copy\n",
    "\n",
    "class masterballProblem(search.SearchProblem):    \n",
    "    \n",
    "    def __init__(self, startState):\n",
    "        '''\n",
    "        Here are some examples of initial states:\n",
    "        [[0, 1, 4, 5, 6, 2, 3, 7], [0, 1, 3, 4, 5, 6, 3, 7], [1, 2, 4, 5, 6, 2, 7, 0], [0, 1, 4, 5, 6, 2, 3, 7]]\n",
    "        [[0, 7, 4, 5, 1, 6, 2, 3], [0, 7, 4, 5, 0, 5, 2, 3], [7, 6, 3, 4, 1, 6, 1, 2], [0, 7, 4, 5, 1, 6, 2, 3]]\n",
    "        [[0, 1, 6, 4, 5, 2, 3, 7], [0, 2, 6, 5, 1, 3, 4, 7], [0, 2, 6, 5, 1, 3, 4, 7], [0, 5, 6, 4, 1, 2, 3, 7]]\n",
    "        '''\n",
    "        self.expanded = 0\n",
    "        ### your code here ###\n",
    "        \n",
    "        start = [[0, 1, 4, 5, 6, 2, 3, 7], [0, 1, 3, 4, 5, 6, 3, 7], [1, 2, 4, 5, 6, 2, 7, 0], [0, 1, 4, 5, 6, 2, 3, 7]]\n",
    "        goal_ref = [[0, 1, 2, 3, 4, 5, 6, 7], [0, 1, 2, 3, 4, 5, 6, 7], [0, 1, 2, 3, 4, 5, 6, 7], [0, 1, 2, 3, 4, 5, 6, 7]]\n",
    "        goal = []\n",
    "        '''\n",
    "        for i in range(7):\n",
    "            if i == 0:\n",
    "                goal.append(goal_ref)\n",
    "            else:\n",
    "                for j in range(4):\n",
    "                    goal.append(masterballProblem.getSuccessors.doright(goal[i-1], j))\n",
    "        \n",
    "        '''\n",
    "        #self.goal = goal\n",
    "        self.start = start\n",
    "        pass\n",
    "    \n",
    "    \n",
    "    def isGoalState(self, state):\n",
    "        \n",
    "        def doright1(state, row):\n",
    "            state_new = state # tal vez no necesaria\n",
    "            d = state_new[row][6]\n",
    "            limit=range(7)\n",
    "            limit.reverse()\n",
    "            for i in limit:       \n",
    "                state_new[row][i] = state_new[row][i-1]\n",
    "            state_new[row][7] = d\n",
    "            return state_new\n",
    "        \n",
    "        goal_ref = [[0, 1, 2, 3, 4, 5, 6, 7], [0, 1, 2, 3, 4, 5, 6, 7], [0, 1, 2, 3, 4, 5, 6, 7], [0, 1, 2, 3, 4, 5, 6, 7]]\n",
    "        goal = []\n",
    "        for i in range(8):\n",
    "            if i == 0:\n",
    "                goal.append(goal_ref)\n",
    "            else:\n",
    "                a = copy.deepcopy(goal[i-1])\n",
    "                for j in range(4):\n",
    "                    b = doright1(a, j)\n",
    "                goal.append(b)\n",
    "                    \n",
    "        for i in range(8):\n",
    "            if state == goal[i]:\n",
    "                return True\n",
    "        return False\n",
    "        ### your code here ###\n",
    "        \n",
    "    \n",
    "    def getStartState(self):\n",
    "        return self.start\n",
    "        ### your code here ###\n",
    "\n",
    "    def getSuccessors(self, state):\n",
    "        print 'algo'\n",
    "        def doleft(state, row):\n",
    "            state_new = state # tal vez no necesaria\n",
    "            d = state_new[row][0]\n",
    "            for i in range(7):\n",
    "                state_new[row][i] = state_new[row][i+1] \n",
    "            state_new[row][7] = d \n",
    "            return state_new\n",
    "\n",
    "        def doright(state, row):\n",
    "            state_new = state # tal vez no necesaria\n",
    "            d = state_new[row][6]\n",
    "            limit=range(7)\n",
    "            limit.reverse()\n",
    "            for i in limit:       \n",
    "                state_new[row][i] = state_new[row][i-1]\n",
    "            state_new[row][7] = d\n",
    "            return state_new\n",
    "        \n",
    "        def doturn(state, column):\n",
    "            state_new = copy.deepcopy(state) # tal vez no necesaria\n",
    "            a = []\n",
    "            for i in range(4):\n",
    "                a.append(state_new[i][column : (column + 4) % 8])\n",
    "                a[i].reverse()\n",
    "            a.reverse() \n",
    "            for i in range(4):\n",
    "                for j in range(4):\n",
    "                    state_new[i][(column + j) % 8] = a[i][j]\n",
    "            return state_new\n",
    "        \n",
    "        lst_successors = []    \n",
    "                \n",
    "        for i in range(4):\n",
    "            state_new = copy.deepcopy(state)\n",
    "            for j in range(7):\n",
    "                state_new = doright(state_new, i)\n",
    "                tuple_new = (state_new, Rotations[i])\n",
    "                print tuple_new\n",
    "                self.expanded += j\n",
    "                lst_successors.append(tuple_new)\n",
    "                        \n",
    "        for i in range(8):\n",
    "            state_new = copy.deepcopy(state)\n",
    "            state_new = doturn(state_new, i)\n",
    "            tuple_new = (state_new, Turns[i])\n",
    "            print tuple_new\n",
    "            self.expanded += 1\n",
    "            lst_successors.append(tuple_new)\n",
    "            \n",
    "        print lst_successors\n",
    "                \n",
    "        return lst_successors"
   ]
  },
  {
   "cell_type": "markdown",
   "metadata": {},
   "source": [
    "### 2. Implement iterative deepening search\n",
    "\n",
    "Follow the example code provided in class and implement iterative deepening search (IDS)."
   ]
  },
  {
   "cell_type": "code",
   "execution_count": 2,
   "metadata": {
    "collapsed": true
   },
   "outputs": [],
   "source": [
    "def depth_Limited_Search(problem, bound):\n",
    "    visited = {}\n",
    "    steps = 0\n",
    "    state = problem.getStartState()\n",
    "    frontier = util.Stack()\n",
    "    d = []\n",
    "    d.append((state,0))\n",
    "    #d[state] = 0\n",
    "    frontier.push((state, [\"Start\"]))\n",
    "    visited[state] = 'gray'\n",
    "    while not frontier.isEmpty():\n",
    "        u, actions = frontier.pop()\n",
    "        steps += 1\n",
    "        if problem.isGoalState(u):\n",
    "            return  actions, steps\n",
    "        if d[u] == bound:\n",
    "            continue\n",
    "        for v, action in problem.getSuccessors(u):\n",
    "            if not v in visited:\n",
    "                visited[v] = 'gray'\n",
    "                d[v] = d[u] + 1\n",
    "                frontier.push((v, actions + [action]))\n",
    "        visited[u] = 'black'\n",
    "    return ['Failure'], steps\n",
    "\n",
    "def IDS(problem):\n",
    "    deadline = time.time() + 600\n",
    "    steps = 0\n",
    "    \n",
    "    while time.time() < deadline:\n",
    "        result, nodes = depth_Limited_Search(problem,steps)\n",
    "        if len(result) > 0:\n",
    "            return result, nodes\n",
    "        steps += 1\n",
    "        \n",
    "def aStarSearch(problem, heuristic):\n",
    "    visited = {}\n",
    "    moves = {}\n",
    "    steps = 0\n",
    "    priority_queue = util.PriorityQueue()\n",
    "    state = problem.getStartState()\n",
    "    visited[state] = 1\n",
    "    moves[state] = [\"Start\"]\n",
    "    priority_queue.push((state,\"Start\"), heuristic(state))\n",
    "    \n",
    "    while not priority_queue.isEmpty():\n",
    "        steps +=1\n",
    "        state, p = priority_queue.pop()\n",
    "        if problem.isGoalState(state):\n",
    "            return moves[state], steps \n",
    "        else:\n",
    "            for state_new, p in problem.getSuccessors(state):\n",
    "                    if state_new not in visited: \n",
    "                        visited[state_new] = visited[state] + 1\n",
    "                        moves[state_new] = list(moves[state])\n",
    "                        moves[state_new].append(p)\n",
    "                        priority_queue.push((state_new,p), (visited[state_new] + heuristic(state_new)))\n",
    "    return ['Failure'], steps"
   ]
  },
  {
   "cell_type": "markdown",
   "metadata": {},
   "source": [
    "Evaluate it to see what is the maximum depth that it could explore in a reasonable time. Report the results. "
   ]
  },
  {
   "cell_type": "markdown",
   "metadata": {},
   "source": [
    "### 3. Implement different heuristics for the problem"
   ]
  },
  {
   "cell_type": "markdown",
   "metadata": {
    "collapsed": true
   },
   "source": [
    "Implement at least two admissible and consistent heuristics. Compare A* using the heuristics against IDS calculating the number of expanded nodes and the effective branching factor, in the same way as it is done in figure 3.29 of [Russell10]."
   ]
  },
  {
   "cell_type": "code",
   "execution_count": 5,
   "metadata": {
    "collapsed": true
   },
   "outputs": [],
   "source": [
    "def myHeuristic(state):\n",
    "    ### your code here ###\n",
    "    return 0"
   ]
  },
  {
   "cell_type": "markdown",
   "metadata": {},
   "source": [
    "Now apply the develop functions to solve the Masterball problem."
   ]
  },
  {
   "cell_type": "code",
   "execution_count": 6,
   "metadata": {
    "collapsed": false
   },
   "outputs": [
    {
     "name": "stdout",
     "output_type": "stream",
     "text": [
      "[]\n",
      "[]\n"
     ]
    }
   ],
   "source": [
    "problem = MasterballProblem([ [0, 4, 3, 2, 1, 5, 6, 7],\n",
    "                              [0, 3, 2, 1, 0, 5, 6, 7],\n",
    "                              [7, 4, 3, 2, 1, 4, 5, 6],\n",
    "                              [0, 4, 3, 2, 1, 5, 6, 7]])\n",
    "\n",
    "print(iterativeDeepeningSearch(problem))\n",
    "print(aStarSearch(problem, myHeuristic))"
   ]
  }
 ],
 "metadata": {
  "kernelspec": {
   "display_name": "Python 2 (SageMath)",
   "language": "python",
   "name": "python2"
  },
  "language_info": {
   "codemirror_mode": {
    "name": "ipython",
    "version": 2
   },
   "file_extension": ".py",
   "mimetype": "text/x-python",
   "name": "python",
   "nbconvert_exporter": "python",
   "pygments_lexer": "ipython2",
   "version": "2.7.13"
  }
 },
 "nbformat": 4,
 "nbformat_minor": 0
}
